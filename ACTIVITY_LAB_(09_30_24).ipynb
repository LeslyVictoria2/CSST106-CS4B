{
  "nbformat": 4,
  "nbformat_minor": 0,
  "metadata": {
    "colab": {
      "provenance": [],
      "authorship_tag": "ABX9TyPLvJGYs2GXoAOoO6O7gQl5",
      "include_colab_link": true
    },
    "kernelspec": {
      "name": "python3",
      "display_name": "Python 3"
    },
    "language_info": {
      "name": "python"
    }
  },
  "cells": [
    {
      "cell_type": "markdown",
      "metadata": {
        "id": "view-in-github",
        "colab_type": "text"
      },
      "source": [
        "<a href=\"https://colab.research.google.com/github/LeslyVictoria2/CSST106-CS4B/blob/main/ACTIVITY_LAB_(09_30_24).ipynb\" target=\"_parent\"><img src=\"https://colab.research.google.com/assets/colab-badge.svg\" alt=\"Open In Colab\"/></a>"
      ]
    },
    {
      "cell_type": "code",
      "execution_count": null,
      "metadata": {
        "colab": {
          "base_uri": "https://localhost:8080/"
        },
        "id": "ZHmKcHBZnBG-",
        "outputId": "81b61018-4af8-4b33-c5cf-405977626ada"
      },
      "outputs": [
        {
          "output_type": "stream",
          "name": "stdout",
          "text": [
            "Requirement already satisfied: opencv-python in /usr/local/lib/python3.10/dist-packages (4.10.0.84)\n",
            "Requirement already satisfied: numpy>=1.21.2 in /usr/local/lib/python3.10/dist-packages (from opencv-python) (1.26.4)\n"
          ]
        }
      ],
      "source": [
        "!pip install opencv-python"
      ]
    },
    {
      "cell_type": "code",
      "source": [
        "from google.colab import drive\n",
        "drive.mount('/content/drive')"
      ],
      "metadata": {
        "colab": {
          "base_uri": "https://localhost:8080/"
        },
        "id": "f8Czp30XoO9c",
        "outputId": "afed2abd-3998-4432-b439-4455fa2c1dba"
      },
      "execution_count": null,
      "outputs": [
        {
          "output_type": "stream",
          "name": "stdout",
          "text": [
            "Drive already mounted at /content/drive; to attempt to forcibly remount, call drive.mount(\"/content/drive\", force_remount=True).\n"
          ]
        }
      ]
    },
    {
      "cell_type": "code",
      "source": [
        "import cv2\n",
        "import os\n",
        "\n",
        "# Function to extract frames\n",
        "def extract_frames(video_path, output_folder, fps=2):\n",
        "    # Open the video file\n",
        "    video_capture = cv2.VideoCapture(video_path)\n",
        "\n",
        "    # Get the frames per second (fps) of the video\n",
        "    video_fps = video_capture.get(cv2.CAP_PROP_FPS)\n",
        "\n",
        "    # Calculate the interval between frames to capture based on video fps and desired fps\n",
        "    frame_interval = int(video_fps / fps)\n",
        "\n",
        "    # Create the output folder if it doesn't exist\n",
        "    if not os.path.exists(output_folder):\n",
        "        os.makedirs(output_folder)\n",
        "\n",
        "    frame_number = 0\n",
        "    extracted_frame_number = 0\n",
        "\n",
        "    while True:\n",
        "        # Read the next frame\n",
        "        success, frame = video_capture.read()\n",
        "\n",
        "        # Break the loop when the video ends\n",
        "        if not success:\n",
        "            break\n",
        "\n",
        "        # Save the frame if it's the desired frame (every frame_interval)\n",
        "        if frame_number % frame_interval == 0:\n",
        "            frame_filename = os.path.join(output_folder, f\"frame_{extracted_frame_number}.jpg\")\n",
        "            cv2.imwrite(frame_filename, frame)\n",
        "            extracted_frame_number += 1\n",
        "\n",
        "        frame_number += 1\n",
        "\n",
        "    # Release the video capture object\n",
        "    video_capture.release()\n",
        "    print(f\"Extracted {extracted_frame_number} frames to '{output_folder}'.\")\n",
        "\n",
        "# Path to the video file\n",
        "video_file_path = \"/content/drive/MyDrive/videokoto.mov\"\n",
        "\n",
        "# Output folder to save the extracted frames\n",
        "output_dir = \"/content/drive/MyDrive/Yey\"\n",
        "\n",
        "# Extract frames at 2 frames per second\n",
        "extract_frames(video_file_path, output_dir, fps=2)"
      ],
      "metadata": {
        "colab": {
          "base_uri": "https://localhost:8080/"
        },
        "id": "YBLFiB_yobj2",
        "outputId": "9e4fd349-e303-47be-f993-5a1c13582cad"
      },
      "execution_count": null,
      "outputs": [
        {
          "output_type": "stream",
          "name": "stdout",
          "text": [
            "Extracted 90 frames to '/content/drive/MyDrive/Yey'.\n"
          ]
        }
      ]
    }
  ]
}